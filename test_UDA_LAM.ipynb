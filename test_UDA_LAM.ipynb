{
  "cells": [
    {
      "cell_type": "markdown",
      "metadata": {
        "id": "bH66ar2AGIN7"
      },
      "source": [
        "UDA"
      ]
    },
    {
      "cell_type": "markdown",
      "metadata": {
        "id": "8W7MYyHXjQbx"
      },
      "source": [
        "Dataset and DataLoader"
      ]
    },
    {
      "cell_type": "code",
      "execution_count": null,
      "metadata": {
        "colab": {
          "base_uri": "https://localhost:8080/"
        },
        "id": "6LE5D4ibkoFl",
        "outputId": "5f4f5d60-cd08-4f13-b772-f937c1f375d2"
      },
      "outputs": [
        {
          "output_type": "stream",
          "name": "stdout",
          "text": [
            "Mounted at /content/drive\n"
          ]
        }
      ],
      "source": [
        "from google.colab import drive\n",
        "drive.mount('/content/drive')"
      ]
    },
    {
      "cell_type": "code",
      "execution_count": null,
      "metadata": {
        "id": "RSZamnRIGMBo"
      },
      "outputs": [],
      "source": [
        "import torch\n",
        "import torch.nn as nn\n",
        "import torch.optim as optim\n",
        "from torchvision import datasets, transforms, models\n",
        "from torch.utils.data import DataLoader\n",
        "import numpy as np\n",
        "import time\n",
        "import requests\n",
        "from torchvision.datasets import ImageFolder\n",
        "from torchvision import models\n",
        "from PIL import Image\n",
        "from shutil import copyfile\n",
        "import os"
      ]
    },
    {
      "cell_type": "code",
      "execution_count": null,
      "metadata": {
        "id": "5ErhRLKwGOYw"
      },
      "outputs": [],
      "source": [
        "os.chdir('/content/drive/MyDrive/MLDL_project')\n",
        "from datasets.cityscapes import CityscapesDataset\n",
        "from datasets.gta5 import GTA5"
      ]
    },
    {
      "cell_type": "code",
      "execution_count": null,
      "metadata": {
        "id": "qqY939g2Mdlf"
      },
      "outputs": [],
      "source": [
        "import torchvision.transforms as transforms\n",
        "transform_train_gta = transforms.Compose([\n",
        "    transforms.ToTensor(),\n",
        "    transforms.RandomApply([transforms.ColorJitter(brightness=0.5, contrast=0.5, saturation=0.5, hue=0.1)], p=0.5),\n",
        "    transforms.Resize((720, 1280), interpolation=Image.Resampling.NEAREST),\n",
        "    transforms.Normalize(mean=[0.485, 0.456, 0.406], std=[0.229, 0.224, 0.225])\n",
        "])\n",
        "\n",
        "lbl_transform_train_gta = transforms.Compose([\n",
        "    transforms.Resize((720,1280), interpolation=Image.Resampling.NEAREST)\n",
        "])\n",
        "\n",
        "transform_trian_city = transforms.Compose([\n",
        "    transforms.ToTensor(),\n",
        "    transforms.RandomApply([transforms.ColorJitter(brightness=0.5, contrast=0.5, saturation=0.5, hue=0.1)], p=0.5),\n",
        "    transforms.Resize((512,1024), interpolation=Image.Resampling.NEAREST),\n",
        "    transforms.Normalize(mean=[0.485, 0.456, 0.406], std=[0.229, 0.224, 0.225]),\n",
        "])\n",
        "\n",
        "lbl_transform_trian_city = transforms.Compose([\n",
        "    transforms.Resize((512,1024), interpolation=Image.Resampling.NEAREST),\n",
        "])\n",
        "\n",
        "transform_val = transforms.Compose([\n",
        "    transforms.ToTensor(),\n",
        "    transforms.Resize((512,1024), interpolation=Image.Resampling.NEAREST),\n",
        "    transforms.Normalize(mean=[0.485, 0.456, 0.406], std=[0.229, 0.224, 0.225]),\n",
        "])\n",
        "\n",
        "lbl_transform_val = transforms.Compose([\n",
        "    transforms.Resize((512,1024), interpolation=Image.Resampling.NEAREST),\n",
        "])"
      ]
    },
    {
      "cell_type": "code",
      "execution_count": null,
      "metadata": {
        "id": "hJdnjm9ejQb6"
      },
      "outputs": [],
      "source": [
        "train_dataset_source = GTA5('/content/drive/MyDrive/MLDL_project/datasets/GTA5', transform=[transform_train_gta,lbl_transform_train_gta])\n",
        "train_dataset_target = CityscapesDataset('/content/drive/MyDrive/MLDL_project/datasets/Cityspaces', transform=[transform_trian_city,lbl_transform_trian_city], split='train')\n",
        "val_dataset = CityscapesDataset('/content/drive/MyDrive/MLDL_project/datasets/Cityspaces', transform=[transform_val,lbl_transform_val], split='val')"
      ]
    },
    {
      "cell_type": "code",
      "execution_count": null,
      "metadata": {
        "id": "qRib7A3cjQb6"
      },
      "outputs": [],
      "source": [
        "# Create a DataLoader\n",
        "from torch.utils.data import DataLoader\n",
        "dataloader_train_source = DataLoader(train_dataset_source, batch_size=8, shuffle=True, num_workers=8)\n",
        "dataloader_train_target = DataLoader(train_dataset_target, batch_size=8, shuffle=True, num_workers=8)\n",
        "dataloader_val = DataLoader(val_dataset, batch_size=8, shuffle=False, num_workers=8)"
      ]
    },
    {
      "cell_type": "code",
      "execution_count": null,
      "metadata": {
        "colab": {
          "base_uri": "https://localhost:8080/"
        },
        "id": "oOAvJ_1AjQb7",
        "outputId": "2f0dcbb1-8237-41f0-806f-c83fd1e34351"
      },
      "outputs": [
        {
          "output_type": "stream",
          "name": "stdout",
          "text": [
            "Number of source training samples: 2500\n",
            "Number of target training samples: 1572\n",
            "Number of validation samples: 500\n"
          ]
        }
      ],
      "source": [
        "num_train_samples_source = len(train_dataset_source)\n",
        "num_train_samples_target = len(train_dataset_target)\n",
        "num_val_samples = len(val_dataset)\n",
        "\n",
        "print(f'Number of source training samples: {num_train_samples_source}')\n",
        "print(f'Number of target training samples: {num_train_samples_target}')\n",
        "print(f'Number of validation samples: {num_val_samples}')"
      ]
    },
    {
      "cell_type": "markdown",
      "metadata": {
        "id": "zJfIPq_ajQb8"
      },
      "source": [
        "Build model"
      ]
    },
    {
      "cell_type": "code",
      "execution_count": null,
      "metadata": {
        "id": "ND0E5w4gHo2z"
      },
      "outputs": [],
      "source": [
        "# Load pre-trained model\n",
        "from models.bisenet.build_bisenet import BiSeNet"
      ]
    },
    {
      "cell_type": "code",
      "execution_count": null,
      "metadata": {
        "id": "lEp_VWkw4h8v"
      },
      "outputs": [],
      "source": [
        "# Load discriminator model\n",
        "from models.discriminator.discriminator import FCDiscriminator"
      ]
    },
    {
      "cell_type": "markdown",
      "metadata": {
        "id": "o6hJEELV5dy6"
      },
      "source": [
        "Trainning process"
      ]
    },
    {
      "cell_type": "code",
      "execution_count": null,
      "metadata": {
        "id": "JgM4Ta8ppJEv"
      },
      "outputs": [],
      "source": [
        "import torch.nn.functional as F\n",
        "from utils import total_hist\n",
        "from utils import per_class_iou\n",
        "\n",
        "def train(epoch, model, model_D, dataloader_train_source, dataloader_train_target, criterion, criterion_D, optimizer, optimizer_D, lambda_adv_target):\n",
        "  model.train()\n",
        "  model_D.train()\n",
        "  loss_seg_value = 0.0\n",
        "  loss_adv_target_value = 0.0\n",
        "  loss_D_value = 0.0\n",
        "  hist = 0\n",
        "  for i, (data_source, data_target) in enumerate(zip(dataloader_train_source, dataloader_train_target)):\n",
        "    inputs_s, lables_s = data_source[0].cuda(), data_source[1].cuda()\n",
        "    inputs_t, _ = data_target[0].cuda(), data_target[1].cuda()\n",
        "    optimizer.zero_grad()\n",
        "    optimizer_D.zero_grad()\n",
        "\n",
        "    # train G\n",
        "\n",
        "    # don't accumulate grads in D\n",
        "    for param in model_D.parameters():\n",
        "        param.requires_grad = False\n",
        "\n",
        "    # train with source\n",
        "    pre_s,_,_ = model(inputs_s)\n",
        "    loss_seg = criterion(pre_s, lables_s)\n",
        "    loss_seg.backward()\n",
        "    loss_seg_value += loss_seg.item()\n",
        "\n",
        "    # train with target\n",
        "    pre_t,_,_ = model(inputs_t)\n",
        "    D_out = model_D(F.softmax(pre_t))\n",
        "    loss_adv_target = criterion_D(D_out, torch.full_like(D_out, source_label, dtype=torch.float).cuda())\n",
        "    loss_adv = lambda_adv_target * loss_adv_target\n",
        "    loss_adv.backward()\n",
        "    loss_adv_target_value += loss_adv_target.item()\n",
        "\n",
        "    # train D\n",
        "\n",
        "    # bring back requires_grad\n",
        "    for param in model_D.parameters():\n",
        "        param.requires_grad = True\n",
        "\n",
        "    # train with source\n",
        "    pre_s = pre_s.detach()\n",
        "    D_out = model_D(F.softmax(pre_s))\n",
        "    loss_D = criterion_D(D_out, torch.full_like(D_out, source_label, dtype=torch.float).cuda())\n",
        "    loss_D.backward()\n",
        "    loss_D_value += loss_D.item()\n",
        "\n",
        "    # train with target\n",
        "    pre_t = pre_t.detach()\n",
        "    D_out = model_D(F.softmax(pre_t))\n",
        "    loss_D = criterion_D(D_out, torch.full_like(D_out, target_label, dtype=torch.float).cuda())\n",
        "    loss_D.backward()\n",
        "    loss_D_value += loss_D.item()\n",
        "\n",
        "    optimizer.step()\n",
        "    optimizer_D.step()\n",
        "\n",
        "    predicted = torch.argmax(pre_s, dim=1)\n",
        "    hist += total_hist(predicted, lables_s, 19)\n",
        "\n",
        "  miou_per_class = per_class_iou(hist)\n",
        "  miou = np.mean(miou_per_class)\n",
        "\n",
        "  # pay attention, this is different with AdaptSegNet\n",
        "  loss_seg_value = loss_seg_value / len(dataloader_train_target)\n",
        "  loss_adv_target_value = loss_adv_target_value / len(dataloader_train_target)\n",
        "  loss_D_value = loss_D_value / (2 * len(dataloader_train_target))\n",
        "  print(f\"Epoch{epoch+1}, Loss_seg: {loss_seg_value}, Loss_adv: {loss_adv_target_value}, Loss_D: {loss_D_value}, mIOU: {miou}\")\n",
        "\n",
        "  return loss_seg_value, loss_adv_target_value, loss_D_value, miou, miou_per_class"
      ]
    },
    {
      "cell_type": "markdown",
      "metadata": {
        "id": "KQqU9JOX52Tb"
      },
      "source": [
        "Validation part"
      ]
    },
    {
      "cell_type": "code",
      "execution_count": null,
      "metadata": {
        "id": "wmxH9G7MzNwj"
      },
      "outputs": [],
      "source": [
        "def validation(model, dataloader_val, criterion):\n",
        "\n",
        "  model.eval()\n",
        "  val_loss = 0.0\n",
        "  hist = 0\n",
        "\n",
        "  with torch.no_grad():\n",
        "    for i, batch in enumerate(dataloader_val, 0):\n",
        "      inputs, labels = batch[0].cuda(), batch[1].cuda()\n",
        "\n",
        "      out = model(inputs)\n",
        "      loss = criterion(out, labels)\n",
        "      val_loss += loss.item()\n",
        "      out = torch.argmax(out, dim=1)\n",
        "      hist += total_hist(out, labels, 19)\n",
        "\n",
        "  miou_per_class = per_class_iou(hist)\n",
        "  miou = np.mean(miou_per_class)\n",
        "  val_loss = val_loss / len(dataloader_val)\n",
        "  print(f\"Val_Loss_seg: {val_loss}, Val_mIOU: {miou}\")\n",
        "  return val_loss, miou, miou_per_class"
      ]
    },
    {
      "cell_type": "markdown",
      "metadata": {
        "id": "7KoHiIcUNpSg"
      },
      "source": [
        "With augmentation"
      ]
    },
    {
      "cell_type": "code",
      "execution_count": null,
      "metadata": {
        "colab": {
          "base_uri": "https://localhost:8080/"
        },
        "id": "7OBND5btsA9I",
        "outputId": "1ff8c808-fa32-4c96-eb61-9babc81bb585"
      },
      "outputs": [
        {
          "output_type": "stream",
          "name": "stderr",
          "text": [
            "Downloading: \"https://download.pytorch.org/models/resnet18-f37072fd.pth\" to /root/.cache/torch/hub/checkpoints/resnet18-f37072fd.pth\n",
            "100%|██████████| 44.7M/44.7M [00:00<00:00, 196MB/s]\n",
            "Downloading: \"https://download.pytorch.org/models/resnet101-63fe2227.pth\" to /root/.cache/torch/hub/checkpoints/resnet101-63fe2227.pth\n",
            "100%|██████████| 171M/171M [00:00<00:00, 213MB/s]\n"
          ]
        },
        {
          "output_type": "stream",
          "name": "stdout",
          "text": [
            "Current learning rate for segmentation model: 0.025, Current learning rate for discriminator: 0.0001\n",
            "Current lambda_adv_target: 0.001\n",
            "Epoch1, Loss_seg: 0.5614388538193582, Loss_adv: 0.9917521101569161, Loss_D: 0.624624585439711, mIOU: 0.25078125594171025\n",
            "Val_Loss_seg: 0.8358994798054771, Val_mIOU: 0.20328148167112586\n",
            "\n",
            "\n",
            "Current learning rate for segmentation model: 0.024549546664914382, Current learning rate for discriminator: 9.819818665965754e-05\n",
            "Current lambda_adv_target: 0.001\n",
            "Epoch2, Loss_seg: 0.3400439256944027, Loss_adv: 1.225799242857144, Loss_D: 0.5729335895952234, mIOU: 0.35148158572674365\n",
            "\n",
            "\n",
            "Current learning rate for segmentation model: 0.024098173031463777, Current learning rate for discriminator: 9.63926921258551e-05\n",
            "Current lambda_adv_target: 0.001\n",
            "Epoch3, Loss_seg: 0.289098213923159, Loss_adv: 1.2850173070346038, Loss_D: 0.5588889503993358, mIOU: 0.4129445235836315\n",
            "\n",
            "\n",
            "Current learning rate for segmentation model: 0.023645857984465803, Current learning rate for discriminator: 9.458343193786322e-05\n",
            "Current lambda_adv_target: 0.001\n",
            "Epoch4, Loss_seg: 0.2596210743570086, Loss_adv: 1.351139020193652, Loss_D: 0.5493242151392292, mIOU: 0.45270099995434326\n",
            "\n",
            "\n",
            "Current learning rate for segmentation model: 0.023192579464083207, Current learning rate for discriminator: 9.277031785633283e-05\n",
            "Current lambda_adv_target: 0.001\n",
            "Epoch5, Loss_seg: 0.24298136579203727, Loss_adv: 1.3684947908227214, Loss_D: 0.5450725730149274, mIOU: 0.4814293388073788\n",
            "\n",
            "\n",
            "Current learning rate for segmentation model: 0.022738314402074057, Current learning rate for discriminator: 9.095325760829622e-05\n",
            "Current lambda_adv_target: 0.001\n",
            "Epoch6, Loss_seg: 0.2186139651815298, Loss_adv: 1.4410700465216855, Loss_D: 0.5352588236180659, mIOU: 0.5226935739938947\n",
            "Val_Loss_seg: 0.6893839755701641, Val_mIOU: 0.2642194033751268\n",
            "\n",
            "\n",
            "Current learning rate for segmentation model: 0.022283038652225, Current learning rate for discriminator: 8.91321546089e-05\n",
            "Current lambda_adv_target: 0.001\n",
            "Epoch7, Loss_seg: 0.20685760071737513, Loss_adv: 1.4566127878760324, Loss_D: 0.5308124285361489, mIOU: 0.5504587450493355\n",
            "\n",
            "\n",
            "Current learning rate for segmentation model: 0.02182672691429215, Current learning rate for discriminator: 8.73069076571686e-05\n",
            "Current lambda_adv_target: 0.001\n",
            "Epoch8, Loss_seg: 0.19316727732341302, Loss_adv: 1.5292639641592345, Loss_D: 0.520701645972765, mIOU: 0.5721080805438885\n",
            "\n",
            "\n",
            "Current learning rate for segmentation model: 0.02136935265067836, Current learning rate for discriminator: 8.547741060271343e-05\n",
            "Current lambda_adv_target: 0.001\n",
            "Epoch9, Loss_seg: 0.18564118422227463, Loss_adv: 1.5308734947049678, Loss_D: 0.5237083653659385, mIOU: 0.5976483596014973\n",
            "\n",
            "\n",
            "Current learning rate for segmentation model: 0.02091088799496335, Current learning rate for discriminator: 8.36435519798534e-05\n",
            "Current lambda_adv_target: 0.001\n",
            "Epoch10, Loss_seg: 0.17788688914122316, Loss_adv: 1.5637360938309413, Loss_D: 0.521133809449709, mIOU: 0.6098538506483927\n",
            "\n",
            "\n",
            "Current learning rate for segmentation model: 0.02045130365127146, Current learning rate for discriminator: 8.180521460508584e-05\n",
            "Current lambda_adv_target: 0.001\n",
            "Epoch11, Loss_seg: 0.16863598553511092, Loss_adv: 1.592675960003422, Loss_D: 0.5185181234542489, mIOU: 0.6307299738187494\n",
            "Val_Loss_seg: 0.6526965697606405, Val_mIOU: 0.309699793712936\n",
            "\n",
            "\n",
            "Current learning rate for segmentation model: 0.019990568783306732, Current learning rate for discriminator: 7.996227513322693e-05\n",
            "Current lambda_adv_target: 0.001\n",
            "Epoch12, Loss_seg: 0.16316121260678101, Loss_adv: 1.61166893044099, Loss_D: 0.5148111833684941, mIOU: 0.6399125445592816\n",
            "\n",
            "\n",
            "Current learning rate for segmentation model: 0.01952865089170152, Current learning rate for discriminator: 7.811460356680608e-05\n",
            "Current lambda_adv_target: 0.001\n",
            "Epoch13, Loss_seg: 0.1606362093296753, Loss_adv: 1.571046894576949, Loss_D: 0.521981145978579, mIOU: 0.6447857849967625\n",
            "\n",
            "\n",
            "Current learning rate for segmentation model: 0.01906551567810721, Current learning rate for discriminator: 7.626206271242883e-05\n",
            "Current lambda_adv_target: 0.001\n",
            "Epoch14, Loss_seg: 0.1535112126375818, Loss_adv: 1.5902356859391111, Loss_D: 0.5176299508604302, mIOU: 0.655226217068457\n",
            "\n",
            "\n",
            "Current learning rate for segmentation model: 0.01860112689419582, Current learning rate for discriminator: 7.440450757678327e-05\n",
            "Current lambda_adv_target: 0.001\n",
            "Epoch15, Loss_seg: 0.1536030304916014, Loss_adv: 1.5944794561657203, Loss_D: 0.5157878255934885, mIOU: 0.6577981761756196\n",
            "\n",
            "\n",
            "Current learning rate for segmentation model: 0.0181354461734305, Current learning rate for discriminator: 7.2541784693722e-05\n",
            "Current lambda_adv_target: 0.001\n",
            "Epoch16, Loss_seg: 0.15008811834197358, Loss_adv: 1.597832832239606, Loss_D: 0.5190872640779176, mIOU: 0.6624675236868565\n",
            "Val_Loss_seg: 0.6936585538917117, Val_mIOU: 0.31284722588903074\n",
            "\n",
            "\n",
            "Current learning rate for segmentation model: 0.017668432843088538, Current learning rate for discriminator: 7.067373137235415e-05\n",
            "Current lambda_adv_target: 0.001\n",
            "Epoch17, Loss_seg: 0.14411324062171926, Loss_adv: 1.607345504809152, Loss_D: 0.5137118119273694, mIOU: 0.6695843327098823\n",
            "\n",
            "\n",
            "Current learning rate for segmentation model: 0.017200043713568206, Current learning rate for discriminator: 6.880017485427283e-05\n",
            "Current lambda_adv_target: 0.001\n",
            "Epoch18, Loss_seg: 0.143113029865444, Loss_adv: 1.6035047497241024, Loss_D: 0.5148634490022804, mIOU: 0.6762932219326018\n",
            "\n",
            "\n",
            "Current learning rate for segmentation model: 0.01673023284146037, Current learning rate for discriminator: 6.692093136584148e-05\n",
            "Current lambda_adv_target: 0.001\n",
            "Epoch19, Loss_seg: 0.13976772443443386, Loss_adv: 1.6156402620567283, Loss_D: 0.5122386528755808, mIOU: 0.6803877129582759\n",
            "\n",
            "\n",
            "Current learning rate for segmentation model: 0.01625895126219355, Current learning rate for discriminator: 6.50358050487742e-05\n",
            "Current lambda_adv_target: 0.001\n",
            "Epoch20, Loss_seg: 0.13646602959651027, Loss_adv: 1.6114853547914378, Loss_D: 0.5099236479567998, mIOU: 0.6846685591895147\n",
            "\n",
            "\n",
            "Current learning rate for segmentation model: 0.015786146687233882, Current learning rate for discriminator: 6.314458674893553e-05\n",
            "Current lambda_adv_target: 0.001\n",
            "Epoch21, Loss_seg: 0.13560149111420974, Loss_adv: 1.6249691314503627, Loss_D: 0.5112381359647373, mIOU: 0.693312526626639\n",
            "Val_Loss_seg: 0.7722305811586834, Val_mIOU: 0.3030831036640801\n",
            "\n",
            "\n",
            "Current learning rate for segmentation model: 0.015311763159798313, Current learning rate for discriminator: 6.124705263919325e-05\n",
            "Current lambda_adv_target: 0.001\n",
            "Epoch22, Loss_seg: 0.1341648340073939, Loss_adv: 1.6339766840039172, Loss_D: 0.5061534313381021, mIOU: 0.6922504985222065\n",
            "\n",
            "\n",
            "Current learning rate for segmentation model: 0.01483574066176465, Current learning rate for discriminator: 5.93429626470586e-05\n",
            "Current lambda_adv_target: 0.001\n",
            "Epoch23, Loss_seg: 0.1317073641165259, Loss_adv: 1.6813740929976333, Loss_D: 0.5008209504300568, mIOU: 0.7053819951915339\n",
            "\n",
            "\n",
            "Current learning rate for segmentation model: 0.014358014662863353, Current learning rate for discriminator: 5.743205865145341e-05\n",
            "Current lambda_adv_target: 0.001\n",
            "Epoch24, Loss_seg: 0.12849362198320138, Loss_adv: 1.7077222505801826, Loss_D: 0.4965104763277896, mIOU: 0.7018378592667259\n",
            "\n",
            "\n",
            "Current learning rate for segmentation model: 0.013878515601215093, Current learning rate for discriminator: 5.551406240486037e-05\n",
            "Current lambda_adv_target: 0.001\n",
            "Epoch25, Loss_seg: 0.12777929431593357, Loss_adv: 1.7047646330092765, Loss_D: 0.4981607498251242, mIOU: 0.7090832232087743\n",
            "\n",
            "\n",
            "Current learning rate for segmentation model: 0.013397168281703665, Current learning rate for discriminator: 5.358867312681466e-05\n",
            "Current lambda_adv_target: 0.001\n",
            "Epoch26, Loss_seg: 0.1259470638738671, Loss_adv: 1.7176859905271966, Loss_D: 0.49787977247068727, mIOU: 0.7186392740993461\n",
            "Val_Loss_seg: 0.7731210286655124, Val_mIOU: 0.3067566301253139\n",
            "\n",
            "\n",
            "Current learning rate for segmentation model: 0.012913891175365325, Current learning rate for discriminator: 5.16555647014613e-05\n",
            "Current lambda_adv_target: 0.001\n",
            "Epoch27, Loss_seg: 0.12434806962152423, Loss_adv: 1.7362620177002728, Loss_D: 0.4922185629454966, mIOU: 0.7135902709776388\n",
            "\n",
            "\n",
            "Current learning rate for segmentation model: 0.01242859559868429, Current learning rate for discriminator: 4.9714382394737164e-05\n",
            "Current lambda_adv_target: 0.001\n",
            "Epoch28, Loss_seg: 0.12401707901567371, Loss_adv: 1.7311532055666, Loss_D: 0.491381707832898, mIOU: 0.7069744665518934\n",
            "\n",
            "\n",
            "Current learning rate for segmentation model: 0.01194118474606262, Current learning rate for discriminator: 4.776473898425048e-05\n",
            "Current lambda_adv_target: 0.001\n",
            "Epoch29, Loss_seg: 0.12237740595479907, Loss_adv: 1.7312757212498466, Loss_D: 0.4923545567668634, mIOU: 0.7193763908099179\n",
            "\n",
            "\n",
            "Current learning rate for segmentation model: 0.01145155254128833, Current learning rate for discriminator: 4.580621016515332e-05\n",
            "Current lambda_adv_target: 0.001\n",
            "Epoch30, Loss_seg: 0.12181954638001882, Loss_adv: 1.7426417606131075, Loss_D: 0.49046692539592684, mIOU: 0.7179133203534692\n",
            "\n",
            "\n",
            "Current learning rate for segmentation model: 0.010959582263852173, Current learning rate for discriminator: 4.38383290554087e-05\n",
            "Current lambda_adv_target: 0.001\n",
            "Epoch31, Loss_seg: 0.12204098345967114, Loss_adv: 1.7854930640477213, Loss_D: 0.4856138925261909, mIOU: 0.7246066621120395\n",
            "Val_Loss_seg: 0.7836075571794359, Val_mIOU: 0.3045591422991914\n",
            "\n",
            "\n",
            "Current learning rate for segmentation model: 0.010465144892430703, Current learning rate for discriminator: 4.186057956972281e-05\n",
            "Current lambda_adv_target: 0.0019025000000000001\n",
            "Epoch32, Loss_seg: 0.11946383345550692, Loss_adv: 1.7681495405090641, Loss_D: 0.4872237604281624, mIOU: 0.72405075594663\n",
            "\n",
            "\n",
            "Current learning rate for segmentation model: 0.00996809708923461, Current learning rate for discriminator: 3.987238835693844e-05\n",
            "Current lambda_adv_target: 0.001\n",
            "Epoch33, Loss_seg: 0.11831618142006967, Loss_adv: 1.7617924098435997, Loss_D: 0.4899685069691711, mIOU: 0.7373231707820426\n",
            "\n",
            "\n",
            "Current learning rate for segmentation model: 0.009468278722913483, Current learning rate for discriminator: 3.787311489165393e-05\n",
            "Current lambda_adv_target: 0.001\n",
            "Epoch34, Loss_seg: 0.11796914570525213, Loss_adv: 1.7912239943664086, Loss_D: 0.48570045526257627, mIOU: 0.7257057871920585\n",
            "\n",
            "\n",
            "Current learning rate for segmentation model: 0.008965509790765193, Current learning rate for discriminator: 3.586203916306077e-05\n",
            "Current lambda_adv_target: 0.001\n",
            "Epoch35, Loss_seg: 0.11719563860578586, Loss_adv: 1.7930254131404277, Loss_D: 0.48580368733042995, mIOU: 0.7333957313659206\n",
            "\n",
            "\n",
            "Current learning rate for segmentation model: 0.008459586547541247, Current learning rate for discriminator: 3.3838346190164985e-05\n",
            "Current lambda_adv_target: 0.001\n",
            "Epoch36, Loss_seg: 0.11594814046990448, Loss_adv: 1.8039138783053092, Loss_D: 0.48071794892628184, mIOU: 0.7352975423369895\n",
            "Val_Loss_seg: 0.8509175275999402, Val_mIOU: 0.29754426723834476\n",
            "\n",
            "\n",
            "Current learning rate for segmentation model: 0.007950276569174988, Current learning rate for discriminator: 3.180110627669995e-05\n",
            "Current lambda_adv_target: 0.00149\n",
            "Epoch37, Loss_seg: 0.11479775146179393, Loss_adv: 1.8017505843022148, Loss_D: 0.4833042516472376, mIOU: 0.7357508821993815\n",
            "\n",
            "\n",
            "Current learning rate for segmentation model: 0.0074373123603891315, Current learning rate for discriminator: 2.9749249441556528e-05\n",
            "Current lambda_adv_target: 0.001\n",
            "Epoch38, Loss_seg: 0.11507297609814532, Loss_adv: 1.8346526289954403, Loss_D: 0.4783761881783529, mIOU: 0.7358646310406638\n",
            "\n",
            "\n",
            "Current learning rate for segmentation model: 0.006920382929919088, Current learning rate for discriminator: 2.768153171967635e-05\n",
            "Current lambda_adv_target: 0.001\n",
            "Epoch39, Loss_seg: 0.11289341354430629, Loss_adv: 1.8225739831246701, Loss_D: 0.48137571621062186, mIOU: 0.7417389239711135\n",
            "\n",
            "\n",
            "Current learning rate for segmentation model: 0.006399122461036551, Current learning rate for discriminator: 2.5596489844146203e-05\n",
            "Current lambda_adv_target: 0.001\n",
            "Epoch40, Loss_seg: 0.11268774616688036, Loss_adv: 1.8435609165181968, Loss_D: 0.47789861186204224, mIOU: 0.7445967801667589\n",
            "\n",
            "\n",
            "Current learning rate for segmentation model: 0.005873094715440094, Current learning rate for discriminator: 2.3492378861760376e-05\n",
            "Current lambda_adv_target: 0.001\n",
            "Epoch41, Loss_seg: 0.11227264429258212, Loss_adv: 1.8578297746968149, Loss_D: 0.4757036899552127, mIOU: 0.7474593407871299\n",
            "Val_Loss_seg: 0.89927629818992, Val_mIOU: 0.2943357581051503\n",
            "\n",
            "\n",
            "Current learning rate for segmentation model: 0.005341770966113463, Current learning rate for discriminator: 2.136708386445385e-05\n",
            "Current lambda_adv_target: 0.0012025\n",
            "Epoch42, Loss_seg: 0.11154992027482405, Loss_adv: 1.8634024676937742, Loss_D: 0.4750905611793402, mIOU: 0.7399417575982834\n",
            "\n",
            "\n",
            "Current learning rate for segmentation model: 0.004804497735925726, Current learning rate for discriminator: 1.9217990943702904e-05\n",
            "Current lambda_adv_target: 0.001\n",
            "Epoch43, Loss_seg: 0.11134314003783434, Loss_adv: 1.8611723251149135, Loss_D: 0.4754859618275299, mIOU: 0.7461209037553919\n",
            "\n",
            "\n",
            "Current learning rate for segmentation model: 0.004260447723332918, Current learning rate for discriminator: 1.7041790893331676e-05\n",
            "Current lambda_adv_target: 0.001\n",
            "Epoch44, Loss_seg: 0.11050170747005394, Loss_adv: 1.875412755811275, Loss_D: 0.4741078835302198, mIOU: 0.7395200178196369\n",
            "\n",
            "\n",
            "Current learning rate for segmentation model: 0.0037085413874382183, Current learning rate for discriminator: 1.4834165549752874e-05\n",
            "Current lambda_adv_target: 0.001\n",
            "Epoch45, Loss_seg: 0.1108947120569079, Loss_adv: 1.881472701348629, Loss_D: 0.4732230277684739, mIOU: 0.7469258334284747\n",
            "\n",
            "\n",
            "Current learning rate for segmentation model: 0.003147313529485418, Current learning rate for discriminator: 1.2589254117941671e-05\n",
            "Current lambda_adv_target: 0.001\n",
            "Epoch46, Loss_seg: 0.10987388906140012, Loss_adv: 1.8961485345956637, Loss_D: 0.4699905542704055, mIOU: 0.7460552139070733\n",
            "Val_Loss_seg: 0.925101932079073, Val_mIOU: 0.2942001286433153\n",
            "\n",
            "\n",
            "Current learning rate for segmentation model: 0.0025746665870904468, Current learning rate for discriminator: 1.0298666348361787e-05\n",
            "Current lambda_adv_target: 0.0010400000000000001\n",
            "Epoch47, Loss_seg: 0.11035244862742835, Loss_adv: 1.9082226372007185, Loss_D: 0.4692466243118199, mIOU: 0.7507148356428095\n",
            "\n",
            "\n",
            "Current learning rate for segmentation model: 0.001987358121886906, Current learning rate for discriminator: 7.949432487547622e-06\n",
            "Current lambda_adv_target: 0.001\n",
            "Epoch48, Loss_seg: 0.11039953531347556, Loss_adv: 1.9030163251809058, Loss_D: 0.4687726517316654, mIOU: 0.752750577239098\n",
            "\n",
            "\n",
            "Current learning rate for segmentation model: 0.001379729661461216, Current learning rate for discriminator: 5.518918645844864e-06\n",
            "Current lambda_adv_target: 0.001\n",
            "Epoch49, Loss_seg: 0.11027777361385713, Loss_adv: 1.9061341055758714, Loss_D: 0.4686923829583347, mIOU: 0.7483217960399347\n",
            "\n",
            "\n",
            "Current learning rate for segmentation model: 0.0007393788183141575, Current learning rate for discriminator: 2.9575152732566297e-06\n",
            "Current lambda_adv_target: 0.001\n",
            "Epoch50, Loss_seg: 0.10887315702922454, Loss_adv: 1.910008799001045, Loss_D: 0.4681428407654544, mIOU: 0.753125182519871\n",
            "\n",
            "\n",
            "Val_Loss_seg: 0.9656660793319581, Val_mIOU: 0.2917239871289755\n",
            "[INFO] Total training time: 23824.853 seconds\n"
          ]
        }
      ],
      "source": [
        "from utils import poly_lr_scheduler\n",
        "from timeit import default_timer as timer\n",
        "\n",
        "model = BiSeNet(num_classes = 19, context_path='resnet18').cuda()\n",
        "# checkpoint = torch.load('/content/drive/MyDrive/MLDL_project/models/bisenet/trained_models/biseNet_UDA_epoch50.pth')\n",
        "# model.load_state_dict(checkpoint)\n",
        "\n",
        "model_D = FCDiscriminator(num_classes=19).cuda()\n",
        "\n",
        "criterion = nn.CrossEntropyLoss(ignore_index=255)\n",
        "optimizer = optim.SGD(model.parameters(), lr=2.5e-2, momentum=0.9, weight_decay=1e-4)\n",
        "\n",
        "criterion_D = nn.BCEWithLogitsLoss()\n",
        "optimizer_D = optim.Adam(model_D.parameters(), lr=1e-4, betas=(0.9, 0.99))\n",
        "\n",
        "# labels for adversarial training\n",
        "source_label = 0\n",
        "target_label = 1\n",
        "# hyper parameter\n",
        "lambda_adv_target = 0.001\n",
        "# lambda_adv_target = 0.1\n",
        "\n",
        "# Set the random seeds\n",
        "torch.manual_seed(42)\n",
        "torch.cuda.manual_seed(42)\n",
        "\n",
        "# Start the timer\n",
        "start_time = timer()\n",
        "\n",
        "epochs = 50\n",
        "models = []\n",
        "miou_train_list = []\n",
        "miou_val_list = []\n",
        "miou_per_class_train_list = []\n",
        "miou_per_class_val_list = []\n",
        "\n",
        "for epoch in range(epochs):\n",
        "  # after 30 epochs, lambda_adv_target jumped every 5 epochs\n",
        "  if epoch > 30 and epoch % 5 == 1:\n",
        "    lambda_adv_target = 0.001 + 0.001 * ((epoch - epochs)**2 / 400)\n",
        "  else:\n",
        "    lambda_adv_target = 0.001\n",
        "  cur_lr = poly_lr_scheduler(optimizer = optimizer, init_lr = 2.5e-2, iter = epoch, lr_decay_iter=1, max_iter=epochs, power=0.9)\n",
        "  cur_lr_D = poly_lr_scheduler(optimizer = optimizer_D, init_lr = 1e-4, iter = epoch, lr_decay_iter=1, max_iter=epochs, power=0.9)\n",
        "\n",
        "  print(f\"Current learning rate for segmentation model: {cur_lr}, Current learning rate for discriminator: {cur_lr_D}\")\n",
        "  print(f\"Current lambda_adv_target: {lambda_adv_target}\")\n",
        "  loss_seg_value, loss_adv_target_value, loss_D_value, miou_train, miou_per_class_train = train(epoch, model, model_D, dataloader_train_source, dataloader_train_target, criterion, criterion_D, optimizer, optimizer_D, lambda_adv_target)\n",
        "  # every 5 epochs print the miou and loss of validation set\n",
        "  if epoch % 5 == 0:\n",
        "    val_loss, miou_val, miou_per_class_val = validation(model, dataloader_val, criterion)\n",
        "    miou_train_list.append(miou_train)\n",
        "    miou_val_list.append(miou_val)\n",
        "    miou_per_class_train_list.append(miou_per_class_train)\n",
        "    miou_per_class_val_list.append(miou_per_class_val)\n",
        "    models.append(model.state_dict())\n",
        "  print(\"\\n\")\n",
        "\n",
        "# Validation after the final epoch\n",
        "val_loss, val_miou, val_miou_per_class = validation(model, dataloader_val, criterion)\n",
        "miou_train_list.append(miou_train)\n",
        "miou_val_list.append(miou_val)\n",
        "miou_per_class_train_list.append(miou_per_class_train)\n",
        "miou_per_class_val_list.append(miou_per_class_val)\n",
        "models.append(model.state_dict())\n",
        "\n",
        "# End the timer and print out how long it took\n",
        "end_time = timer()\n",
        "print(f\"[INFO] Total training time: {end_time-start_time:.3f} seconds\")\n"
      ]
    },
    {
      "cell_type": "code",
      "execution_count": null,
      "metadata": {
        "id": "-HiznAnWxzBY",
        "colab": {
          "base_uri": "https://localhost:8080/"
        },
        "outputId": "4529c3f3-b4d2-4d28-f363-3a565c800333"
      },
      "outputs": [
        {
          "output_type": "stream",
          "name": "stdout",
          "text": [
            "[0.98751021 0.86086236 0.89983053 0.80982625 0.64943227 0.51799984\n",
            " 0.48605705 0.63829871 0.82278082 0.80814367 0.95517969 0.51287426\n",
            " 0.57120168 0.90806128 0.90254736 0.94487758 0.91814667 0.66960498\n",
            " 0.44614325]\n"
          ]
        }
      ],
      "source": [
        "print(miou_per_class_train_list[-1])"
      ]
    },
    {
      "cell_type": "code",
      "execution_count": null,
      "metadata": {
        "id": "nMPpbbgC4g_q",
        "colab": {
          "base_uri": "https://localhost:8080/"
        },
        "outputId": "898e5093-6fa2-45cc-eea5-36e139d6d3db"
      },
      "outputs": [
        {
          "output_type": "stream",
          "name": "stdout",
          "text": [
            "[0.82036992 0.25697133 0.75635741 0.2089475  0.09861922 0.21431413\n",
            " 0.12256041 0.08140053 0.73410302 0.15500003 0.77301967 0.33937389\n",
            " 0.05235532 0.64513365 0.18748943 0.11236876 0.         0.02703679\n",
            " 0.00438144]\n"
          ]
        }
      ],
      "source": [
        "print(miou_per_class_val_list[-1])"
      ]
    },
    {
      "cell_type": "code",
      "execution_count": null,
      "metadata": {
        "id": "4BshENbE4lnR",
        "colab": {
          "base_uri": "https://localhost:8080/"
        },
        "outputId": "d3472649-9af5-4a8f-d08f-0ed9cef308e7"
      },
      "outputs": [
        {
          "output_type": "stream",
          "name": "stdout",
          "text": [
            "[0.98098901 0.80460129 0.86822384 0.72125603 0.54359473 0.43503925\n",
            " 0.32584705 0.48362122 0.79216093 0.7520405  0.94855    0.41177011\n",
            " 0.44365193 0.86868643 0.84759122 0.89819377 0.88336162 0.57770402\n",
            " 0.        ]\n"
          ]
        }
      ],
      "source": [
        "print(miou_per_class_train_list[np.argmax(np.array(miou_val_list))])"
      ]
    },
    {
      "cell_type": "code",
      "execution_count": null,
      "metadata": {
        "id": "CZANJdcH4kAx",
        "colab": {
          "base_uri": "https://localhost:8080/"
        },
        "outputId": "850f4bf2-03a2-441a-f580-d7d4edcffbcb"
      },
      "outputs": [
        {
          "output_type": "stream",
          "name": "stdout",
          "text": [
            "[0.85656469 0.2707159  0.75802138 0.22622543 0.12407797 0.19197726\n",
            " 0.12686002 0.08749387 0.76006398 0.21169262 0.76394476 0.34619815\n",
            " 0.08675764 0.75053915 0.21278094 0.13577883 0.00300681 0.03139791\n",
            " 0.        ]\n"
          ]
        }
      ],
      "source": [
        "print(miou_per_class_val_list[np.argmax(np.array(miou_val_list))])"
      ]
    },
    {
      "cell_type": "code",
      "execution_count": null,
      "metadata": {
        "id": "5C1E0BEclqRm"
      },
      "outputs": [],
      "source": [
        "# save best model\n",
        "import os\n",
        "DIR = '/content/drive/MyDrive/MLDL_project/models/bisenet/trained_models/'\n",
        "if not os.path.exists(DIR):\n",
        "    os.makedirs(DIR)\n",
        "PATH = DIR + f'biseNet_UDA_LAM_epoch{epochs}.pth'\n",
        "\n",
        "# delete old model files\n",
        "if os.path.exists(PATH):\n",
        "    os.remove(PATH)\n",
        "\n",
        "model = BiSeNet(num_classes = 19, context_path='resnet18').cuda()\n",
        "model.load_state_dict(models[np.argmax(np.array(miou_val_list))])\n",
        "torch.save(model.state_dict(), PATH)"
      ]
    },
    {
      "cell_type": "code",
      "execution_count": null,
      "metadata": {
        "id": "5ZXXEB-9hn5u",
        "colab": {
          "base_uri": "https://localhost:8080/",
          "height": 564
        },
        "outputId": "51cc2520-3022-4987-fef9-f011922c158e"
      },
      "outputs": [
        {
          "output_type": "display_data",
          "data": {
            "text/plain": [
              "<Figure size 1000x600 with 1 Axes>"
            ],
            "image/png": "[encoded data removed]"
          },
          "metadata": {}
        }
      ],
      "source": [
        "# visualization\n",
        "import matplotlib.pyplot as plt\n",
        "\n",
        "epochs_list = list(np.arange(1, 50+1, 5)) + [50]\n",
        "plt.figure(figsize=(10, 6))\n",
        "\n",
        "plt.plot(epochs_list, miou_train_list, marker='o', linestyle='-', color='r', label='Training mIOU')\n",
        "plt.plot(epochs_list, miou_val_list, marker='o', linestyle='--', color='b', label='Val mIOU')\n",
        "\n",
        "plt.title('Training and validation mIOU over Epochs')\n",
        "plt.xlabel('Epochs')\n",
        "plt.ylabel('mIOU')\n",
        "\n",
        "plt.legend()\n",
        "plt.grid(True)\n",
        "plt.show()"
      ]
    },
    {
      "cell_type": "code",
      "execution_count": null,
      "metadata": {
        "id": "1awP80Qz5doG"
      },
      "outputs": [],
      "source": []
    }
  ],
  "metadata": {
    "accelerator": "GPU",
    "colab": {
      "gpuType": "T4",
      "machine_shape": "hm",
      "provenance": []
    },
    "kernelspec": {
      "display_name": "Python 3",
      "name": "python3"
    },
    "language_info": {
      "codemirror_mode": {
        "name": "ipython",
        "version": 3
      },
      "file_extension": ".py",
      "mimetype": "text/x-python",
      "name": "python",
      "nbconvert_exporter": "python",
      "pygments_lexer": "ipython3",
      "version": "3.11.5"
    }
  },
  "nbformat": 4,
  "nbformat_minor": 0
}